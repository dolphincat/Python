{
 "cells": [
  {
   "cell_type": "code",
   "execution_count": 4,
   "metadata": {},
   "outputs": [
    {
     "data": {
      "text/plain": [
       "4188.790204786391"
      ]
     },
     "execution_count": 4,
     "metadata": {},
     "output_type": "execute_result"
    }
   ],
   "source": [
    "import math\n",
    "def vol(rad):\n",
    "  \n",
    "    return (4*math.pi*rad**3)/3\n",
    "vol(10)"
   ]
  },
  {
   "cell_type": "code",
   "execution_count": 5,
   "metadata": {},
   "outputs": [],
   "source": [
    "def ran_check(num,low,high):\n",
    "    if num>=low and num<=high:\n",
    "        return True\n",
    "    else:\n",
    "        return False\n",
    "    \n",
    "    \n",
    "def ran_bool(num,low,high):\n",
    "    return num>=low and num<=high\n"
   ]
  },
  {
   "cell_type": "code",
   "execution_count": 33,
   "metadata": {},
   "outputs": [],
   "source": [
    "def up_low(s):\n",
    "    '''\n",
    "    accepts a string and calculate the number of upper case letters and lower case letters\n",
    "\n",
    "    '''\n",
    "    count_upper = 0\n",
    "    count_lower = 0\n",
    "    for char in s:\n",
    "        while char:#need to remove the empty\n",
    "            if char.isupper():\n",
    "                count_upper+=1\n",
    "            elif char.islower():\n",
    "                count_lower+=1\n",
    "    return count_upper, count_lower        "
   ]
  },
  {
   "cell_type": "code",
   "execution_count": null,
   "metadata": {},
   "outputs": [],
   "source": [
    "up_low(\"I am here\")"
   ]
  },
  {
   "cell_type": "code",
   "execution_count": 11,
   "metadata": {},
   "outputs": [
    {
     "data": {
      "text/plain": [
       "[1, 2, 3, 4, 5, 6]"
      ]
     },
     "execution_count": 11,
     "metadata": {},
     "output_type": "execute_result"
    }
   ],
   "source": [
    "def unique_list(l):\n",
    "    unique_list = []\n",
    "    for m in l:\n",
    "        if m not in unique_list:\n",
    "            unique_list.append(m)\n",
    "    return unique_list\n",
    "unique_list([1,1,1,1,1,2,2,2,2,2,3,4,5,6,6])"
   ]
  },
  {
   "cell_type": "code",
   "execution_count": 12,
   "metadata": {},
   "outputs": [
    {
     "data": {
      "text/plain": [
       "6"
      ]
     },
     "execution_count": 12,
     "metadata": {},
     "output_type": "execute_result"
    }
   ],
   "source": [
    "def multiple(nums):\n",
    "    result=1\n",
    "    for i in nums:\n",
    "        result*=i\n",
    "    return result\n",
    "multiple([1,2,3])"
   ]
  },
  {
   "cell_type": "code",
   "execution_count": 15,
   "metadata": {},
   "outputs": [
    {
     "data": {
      "text/plain": [
       "True"
      ]
     },
     "execution_count": 15,
     "metadata": {},
     "output_type": "execute_result"
    }
   ],
   "source": [
    "#palindrome is a word, phrase, or sequence that reads the same backward as forward\n",
    "\n",
    "def palindrome(s):\n",
    "    #remove the space in the string\n",
    "    #reverse\n",
    "    new = s.split()\n",
    "    new_string = ''.join(new)\n",
    "    reverse_string = new_string[::-1]\n",
    "    return new_string == reverse_string\n",
    "\n",
    "palindrome('HelleH')\n",
    "    "
   ]
  },
  {
   "cell_type": "code",
   "execution_count": null,
   "metadata": {},
   "outputs": [],
   "source": [
    "#pangram: every letter appears atleast once\n",
    "import string\n",
    "def ispangram(str1,alphabet = string.ascii_lowercase):\n",
    "    #mysolution: \n",
    "    return len(set(list(filter(lambda x:x in list(alphabet),str1))))==26\n",
    "    # instructor solution: \n",
    "    return alphabet <= set(str1.lower())\n",
    "    #string.ascii_lowercase\n",
    "ispangram('The quick brown fox jumps over the lazy dog')"
   ]
  },
  {
   "cell_type": "code",
   "execution_count": null,
   "metadata": {},
   "outputs": [],
   "source": []
  }
 ],
 "metadata": {
  "kernelspec": {
   "display_name": "Python 3",
   "language": "python",
   "name": "python3"
  },
  "language_info": {
   "codemirror_mode": {
    "name": "ipython",
    "version": 3
   },
   "file_extension": ".py",
   "mimetype": "text/x-python",
   "name": "python",
   "nbconvert_exporter": "python",
   "pygments_lexer": "ipython3",
   "version": "3.6.5"
  }
 },
 "nbformat": 4,
 "nbformat_minor": 2
}
