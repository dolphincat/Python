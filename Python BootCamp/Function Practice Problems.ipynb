{
 "cells": [
  {
   "cell_type": "code",
   "execution_count": 1,
   "metadata": {},
   "outputs": [],
   "source": [
    "def lesser_of_two_events(a,b):\n",
    "    '''\n",
    "    if both are even, return the small one\n",
    "    if at least one is odd, return the greater one\n",
    "    '''\n",
    "    if a%2==0 and b%2==0:\n",
    "        #return a if a<b else b\n",
    "        return min(a,b)\n",
    "    else: \n",
    "        #return a if a>b else b\n",
    "        return max(a,b)"
   ]
  },
  {
   "cell_type": "code",
   "execution_count": 2,
   "metadata": {},
   "outputs": [
    {
     "data": {
      "text/plain": [
       "2"
      ]
     },
     "execution_count": 2,
     "metadata": {},
     "output_type": "execute_result"
    }
   ],
   "source": [
    "lesser_of_two_events(2,4)"
   ]
  },
  {
   "cell_type": "code",
   "execution_count": 3,
   "metadata": {},
   "outputs": [
    {
     "data": {
      "text/plain": [
       "5"
      ]
     },
     "execution_count": 3,
     "metadata": {},
     "output_type": "execute_result"
    }
   ],
   "source": [
    "lesser_of_two_events(2,5)"
   ]
  },
  {
   "cell_type": "code",
   "execution_count": 56,
   "metadata": {},
   "outputs": [
    {
     "data": {
      "text/plain": [
       "True"
      ]
     },
     "execution_count": 56,
     "metadata": {},
     "output_type": "execute_result"
    }
   ],
   "source": [
    "#Write a function takes a two-word string and returns True if both words begin with same letter\n",
    "def animal_crackers(text):\n",
    "    '''\n",
    "    split the text to two words in a list\n",
    "    if the firstletter in list[0] and list[1] are the same, return True\n",
    "    '''\n",
    "    newlist = text.upper().split()\n",
    "    return newlist[0][0]== newlist[1][0]\n",
    "\n",
    "animal_crackers('Hello Hey')"
   ]
  },
  {
   "cell_type": "code",
   "execution_count": 5,
   "metadata": {},
   "outputs": [
    {
     "data": {
      "text/plain": [
       "False"
      ]
     },
     "execution_count": 5,
     "metadata": {},
     "output_type": "execute_result"
    }
   ],
   "source": [
    "animal_crackers('Hello There')"
   ]
  },
  {
   "cell_type": "code",
   "execution_count": 6,
   "metadata": {},
   "outputs": [
    {
     "data": {
      "text/plain": [
       "13"
      ]
     },
     "execution_count": 6,
     "metadata": {},
     "output_type": "execute_result"
    }
   ],
   "source": [
    "#The other side of 7: Given a value, return a value that is twice as far away on the other side of 7\n",
    "def other_side_of_seven(num):\n",
    "    '''\n",
    "    input 4 --> output 13\n",
    "    analysis: 7-4=3\n",
    "              7+3*2=13\n",
    "    input 12 -->output -3\n",
    "    analysis: 7-12=-5\n",
    "              7+2*-5 = -3\n",
    "    '''\n",
    "    variance = 7-num\n",
    "    return 7+2*variance\n",
    "other_side_of_seven(4)"
   ]
  },
  {
   "cell_type": "code",
   "execution_count": 7,
   "metadata": {},
   "outputs": [
    {
     "data": {
      "text/plain": [
       "-3"
      ]
     },
     "execution_count": 7,
     "metadata": {},
     "output_type": "execute_result"
    }
   ],
   "source": [
    "other_side_of_seven(12)"
   ]
  },
  {
   "cell_type": "code",
   "execution_count": 10,
   "metadata": {},
   "outputs": [
    {
     "data": {
      "text/plain": [
       "'DorRy'"
      ]
     },
     "execution_count": 10,
     "metadata": {},
     "output_type": "execute_result"
    }
   ],
   "source": [
    "#Old MAcdonald: Write a function that capitalizes the first and fourth letters of a name\n",
    "def old_macdonald(name):\n",
    "    '''\n",
    "    Capitalize the first and fourth letters of a name\n",
    "    '''\n",
    "    newlist=[]\n",
    "    for index,item in enumerate(name):\n",
    "        if index==0 or index==3:\n",
    "            item = item.upper()\n",
    "        newlist.append(item)\n",
    "    return ''.join(newlist)   \n",
    "\n",
    "old_macdonald('Dorry')"
   ]
  },
  {
   "cell_type": "code",
   "execution_count": 59,
   "metadata": {},
   "outputs": [
    {
     "data": {
      "text/plain": [
       "'DorRy'"
      ]
     },
     "execution_count": 59,
     "metadata": {},
     "output_type": "execute_result"
    }
   ],
   "source": [
    "def old_macdonald(name):\n",
    "    '''\n",
    "    Capitalize the first and fourth letters of a name\n",
    "    '''\n",
    "    first_half = name[:3]\n",
    "    second_half = name[3:]\n",
    "    return first_half.capitalize()+second_half.capitalize()\n",
    "    \n",
    "\n",
    "old_macdonald('Dorry')"
   ]
  },
  {
   "cell_type": "code",
   "execution_count": 16,
   "metadata": {},
   "outputs": [
    {
     "data": {
      "text/plain": [
       "'am I'"
      ]
     },
     "execution_count": 16,
     "metadata": {},
     "output_type": "execute_result"
    }
   ],
   "source": [
    "#Master Yoda: given a sentence, return a sentence with the words reversed\n",
    "def master_yoda(text):\n",
    "    '''\n",
    "    input = 'I am home' output = 'home am I'\n",
    "    input[0],input[1],input[2]\n",
    "    '''\n",
    "    newlist = text.split()\n",
    "    reverse_list=[]\n",
    "    #for i in \n",
    "    for i in list(range(len(newlist)-1,-1,-1)):\n",
    "        reverse_list.append(newlist[i])\n",
    "    return ' '.join(reverse_list)   \n",
    "\n",
    "master_yoda('I am')"
   ]
  },
  {
   "cell_type": "code",
   "execution_count": 64,
   "metadata": {},
   "outputs": [
    {
     "data": {
      "text/plain": [
       "'I like you'"
      ]
     },
     "execution_count": 64,
     "metadata": {},
     "output_type": "execute_result"
    }
   ],
   "source": [
    "def master_yoda(text):\n",
    "    new = text.split()\n",
    "    new.reverse()\n",
    "    reverse_list = new[::-1]\n",
    "    return ' '.join(reverse_list)\n",
    "master_yoda('I like you')"
   ]
  },
  {
   "cell_type": "code",
   "execution_count": 66,
   "metadata": {},
   "outputs": [
    {
     "data": {
      "text/plain": [
       "False"
      ]
     },
     "execution_count": 66,
     "metadata": {},
     "output_type": "execute_result"
    }
   ],
   "source": [
    "#Given an integer n, return True if n is within 10 of either 100 or 200\n",
    "def almost_there(n):\n",
    "    '''\n",
    "    input 90 --> True\n",
    "    input 150 -->False\n",
    "    input 104 --> True\n",
    "    input 209 --> True\n",
    "    '''\n",
    "    return (abs(n-100)<=10) or (abs(n-200)<=10)\n",
    "        \n",
    "\n",
    "almost_there(150)\n",
    "    \n",
    "    "
   ]
  },
  {
   "cell_type": "code",
   "execution_count": 21,
   "metadata": {},
   "outputs": [],
   "source": [
    "#L2\n",
    "#Laughter: write a function that counts the number of times a given pattern appears in a string, including overlap\n",
    "def laughter(pattern,text):\n",
    "    '''\n",
    "    input:'hah','hahahah' -->3\n",
    "    appears at index[0,2,4] so it appears three times\n",
    "    note: 'hahahah'.count('hah') returns 2\n",
    "    '''\n",
    "    \n",
    "    \n",
    "    "
   ]
  },
  {
   "cell_type": "code",
   "execution_count": null,
   "metadata": {},
   "outputs": [],
   "source": []
  },
  {
   "cell_type": "code",
   "execution_count": 30,
   "metadata": {},
   "outputs": [
    {
     "data": {
      "text/plain": [
       "False"
      ]
     },
     "execution_count": 30,
     "metadata": {},
     "output_type": "execute_result"
    }
   ],
   "source": [
    "# Find 33\n",
    "# Given a list of ints, return True if the array contains a 3 net to a 3 somewhere\n",
    "def has_33(nums):\n",
    "    '''\n",
    "    first check if the list contains 3 and find its index\n",
    "    put the index into a list and sort\n",
    "    then check the difference between indexes == 1\n",
    "    '''\n",
    "    index = 0\n",
    "    index_list = []\n",
    "    for i in nums:\n",
    "        if i==3:\n",
    "            index_list.append(index)\n",
    "        index+=1\n",
    "    index_list.sort()\n",
    "    for x in range(0,len(index_list)-1):\n",
    "        if index_list[x+1] - index_list[x] ==1:\n",
    "            return True\n",
    "    \n",
    "    return False\n",
    "\n",
    "has_33([3,1,2,2,3])    "
   ]
  },
  {
   "cell_type": "code",
   "execution_count": 67,
   "metadata": {},
   "outputs": [],
   "source": [
    "def has_33(nums):\n",
    "    for i in range(0,len(nums)-1):\n",
    "        if nums[i]==3 and nums[i+1]==3:\n",
    "        # if nums[i:i+2] == [3,3]\n",
    "            return True\n",
    "    \n",
    "    return False"
   ]
  },
  {
   "cell_type": "code",
   "execution_count": 69,
   "metadata": {},
   "outputs": [
    {
     "data": {
      "text/plain": [
       "'MMMiiissssssiiissssssiiippppppiii'"
      ]
     },
     "execution_count": 69,
     "metadata": {},
     "output_type": "execute_result"
    }
   ],
   "source": [
    "##Sample soluiton\n",
    "def paper_doll(text):\n",
    "    result =''\n",
    "    for char in text:\n",
    "        result +=char*3\n",
    "    return result\n",
    "paper_doll('Mississippi')   "
   ]
  },
  {
   "cell_type": "code",
   "execution_count": 36,
   "metadata": {},
   "outputs": [
    {
     "data": {
      "text/plain": [
       "'MMMiiissssssiiissssssiiippppppiii'"
      ]
     },
     "execution_count": 36,
     "metadata": {},
     "output_type": "execute_result"
    }
   ],
   "source": [
    "#Paper Doll\n",
    "#Given a string, return a string where for every character in the original there are three characters\n",
    "def paper_doll(text):\n",
    "    '''\n",
    "    paper_doll('Hello') -->'HHHeeellllllooo'\n",
    "    '''\n",
    "    newlist=[]\n",
    "    for index,item in enumerate(text):\n",
    "        newlist.append(item*3)\n",
    "    return ''.join(newlist)\n",
    "    \n",
    "    \n",
    "paper_doll('Mississippi')    \n",
    "    \n",
    "    "
   ]
  },
  {
   "cell_type": "code",
   "execution_count": 70,
   "metadata": {},
   "outputs": [
    {
     "data": {
      "text/plain": [
       "'BUST'"
      ]
     },
     "execution_count": 70,
     "metadata": {},
     "output_type": "execute_result"
    }
   ],
   "source": [
    "# BlackJack\n",
    "# Given three integers a,b,c between 1 and 11\n",
    "# if sum <= to 21, return  sum\n",
    "# if sum>21 and 11 in(a,b,c),return sum-10\n",
    "# if sum>21, return BUST\n",
    "def blackjack(a,b,c):\n",
    "    new_sum = a+b+c\n",
    "    if new_sum<=21:\n",
    "        return new_sum\n",
    "    elif new_sum>21 and (11 in (a,b,c)) and new_sum-10<=21:\n",
    "        return new_sum-10\n",
    "    else:\n",
    "        return 'BUST'\n",
    "blackjack(9,9,9)"
   ]
  },
  {
   "cell_type": "code",
   "execution_count": 39,
   "metadata": {},
   "outputs": [
    {
     "data": {
      "text/plain": [
       "19"
      ]
     },
     "execution_count": 39,
     "metadata": {},
     "output_type": "execute_result"
    }
   ],
   "source": [
    "blackjack(9,9,11)"
   ]
  },
  {
   "cell_type": "code",
   "execution_count": 40,
   "metadata": {},
   "outputs": [
    {
     "data": {
      "text/plain": [
       "'BUST'"
      ]
     },
     "execution_count": 40,
     "metadata": {},
     "output_type": "execute_result"
    }
   ],
   "source": [
    "blackjack(9,10,9)"
   ]
  },
  {
   "cell_type": "code",
   "execution_count": 41,
   "metadata": {},
   "outputs": [
    {
     "data": {
      "text/plain": [
       "20"
      ]
     },
     "execution_count": 41,
     "metadata": {},
     "output_type": "execute_result"
    }
   ],
   "source": [
    "blackjack(10,9,11)"
   ]
  },
  {
   "cell_type": "code",
   "execution_count": 42,
   "metadata": {},
   "outputs": [
    {
     "data": {
      "text/plain": [
       "21"
      ]
     },
     "execution_count": 42,
     "metadata": {},
     "output_type": "execute_result"
    }
   ],
   "source": [
    "blackjack(11,9,11)"
   ]
  },
  {
   "cell_type": "code",
   "execution_count": 52,
   "metadata": {},
   "outputs": [
    {
     "data": {
      "text/plain": [
       "14"
      ]
     },
     "execution_count": 52,
     "metadata": {},
     "output_type": "execute_result"
    }
   ],
   "source": [
    "# Sum of 69\n",
    "# returns the sum of the numbers in the array\n",
    "# except ignore sections of numbers starting with a 6 and extending to the next 9\n",
    "# every 6 will be followed by at least one 9\n",
    "# returns 0 for no numbers\n",
    "def summer_69(arr):\n",
    "    '''\n",
    "    summer_69([1,3,5]) -->9\n",
    "    summer_69([4,5,6,7,8,9]) -->9\n",
    "    summer_69([2,1,6,9,11]) -->14\n",
    "    any numbers between 6 and 9 are ignored\n",
    "    find the first time (index) 6 appears and last time 9 appears\n",
    "    anything in between are ignored\n",
    "    '''\n",
    "    index_of_six =[]\n",
    "    index_of_nine =[]\n",
    "    \n",
    "    for index,item in enumerate(arr):\n",
    "        if item ==6:\n",
    "            index_of_six.append(index)\n",
    "        if item ==9:\n",
    "            index_of_nine.append(index)\n",
    "    #find the first time six appears\n",
    "    result = 0\n",
    "    for i in list(range(0,index_of_six[0])):\n",
    "        result+=arr[i]\n",
    "        \n",
    "    #find the last time 9 appears\n",
    "    for i in list(range(index_of_nine[-1]+1,len(arr))):\n",
    "        result+=arr[i]\n",
    "        \n",
    "    return result\n",
    "\n",
    "summer_69([1,3,5,6,7,8,9])\n",
    "summer_69([2,1,6,9,11])\n",
    "    \n",
    "    \n",
    "    "
   ]
  },
  {
   "cell_type": "code",
   "execution_count": 55,
   "metadata": {},
   "outputs": [
    {
     "name": "stdout",
     "output_type": "stream",
     "text": [
      "[3, 4]\n",
      "[5]\n"
     ]
    },
    {
     "data": {
      "text/plain": [
       "True"
      ]
     },
     "execution_count": 55,
     "metadata": {},
     "output_type": "execute_result"
    }
   ],
   "source": [
    "# Challenge problems\n",
    "# SPY GAME: write a function that takes in a list of integers and returns\n",
    "# True if it contains 007 in order\n",
    "\n",
    "def spy_game(nums):\n",
    "    '''\n",
    "    spy_game([1,2,4,0,0,7])\n",
    "    first find the position of 0\n",
    "    if there are two 0s with index variance = 1, then check the value for the\n",
    "    next index to see if the value is 7\n",
    "    \n",
    "    check all the 0s with variance =1 and the next index\n",
    "    '''\n",
    "    zero_index = []\n",
    "    #find the index position of 0s\n",
    "    for index,item in enumerate(nums):\n",
    "        if item == 0:\n",
    "            zero_index.append(index)\n",
    "    zero_index.sort()\n",
    "    continue_zero_index = []\n",
    "    #print(zero_index)\n",
    "    for i in list(range(1,len(zero_index))):\n",
    "        if zero_index[i]-zero_index[i-1]==1:\n",
    "            continue_zero_index.append(zero_index[i]+1)\n",
    "    #print(continue_zero_index)\n",
    "    check_seven = continue_zero_index\n",
    "    check_seven.sort()\n",
    "    for i in check_seven:\n",
    "        if nums[i]==7:\n",
    "            return True\n",
    "    \n",
    "    return False\n",
    "\n",
    "spy_game([1,2,4,0,0,7])\n",
    "            \n",
    "    \n",
    "    "
   ]
  },
  {
   "cell_type": "code",
   "execution_count": 72,
   "metadata": {},
   "outputs": [
    {
     "data": {
      "text/plain": [
       "True"
      ]
     },
     "execution_count": 72,
     "metadata": {},
     "output_type": "execute_result"
    }
   ],
   "source": [
    "def spy_game(nums):\n",
    "    '''\n",
    "    if num = code[0]\n",
    "    pop off the [0] in the code list\n",
    "    '''\n",
    "    code = [0,0,7,'x']\n",
    "    for num in nums:\n",
    "        if num == code[0]:\n",
    "            code.pop(0)\n",
    "    return len(code)==1\n",
    "        \n",
    "spy_game([1,2,4,0,0,7])"
   ]
  },
  {
   "cell_type": "code",
   "execution_count": 76,
   "metadata": {},
   "outputs": [
    {
     "name": "stdout",
     "output_type": "stream",
     "text": [
      "[2, 3, 5, 7, 11, 13, 17, 19, 23, 29, 31, 37, 41, 43, 47, 53, 59, 61, 67, 71, 73, 79, 83, 89, 97]\n"
     ]
    },
    {
     "data": {
      "text/plain": [
       "25"
      ]
     },
     "execution_count": 76,
     "metadata": {},
     "output_type": "execute_result"
    }
   ],
   "source": [
    "# Count primes\n",
    "# Write a function that returns the number of prime numbers that exists up to\n",
    "# and including a given number\n",
    "def count_primes(num):\n",
    "    '''\n",
    "    count_primes(100) -->25\n",
    "    prime number can only be divided by itself\n",
    "    '''\n",
    "    #check for 0,1 input\n",
    "    if num<2:\n",
    "        return 0\n",
    "    #####################################\n",
    "    #2 or greater\n",
    "    #make a list to track prime numbers\n",
    "    primes=[2]\n",
    "    #counter going up to the input num\n",
    "    x = 3\n",
    "    \n",
    "    #x is going through every number till the input number\n",
    "    while x<=num:\n",
    "        #start from 3 and considering prime numbers will have to be odd\n",
    "        #check all the odd ones till number x\n",
    "        for y in range(3,x,2):\n",
    "            if x%y==0:\n",
    "                x+=2\n",
    "                break\n",
    "        else:\n",
    "            primes.append(x)\n",
    "            x+=2\n",
    "    print(primes)\n",
    "    return len(primes)\n",
    "        \n",
    "    \n",
    "count_primes(100)      \n",
    "        \n",
    "    \n",
    "    \n",
    "    \n",
    "    "
   ]
  },
  {
   "cell_type": "code",
   "execution_count": 77,
   "metadata": {},
   "outputs": [
    {
     "name": "stdout",
     "output_type": "stream",
     "text": [
      "3\n",
      "4\n"
     ]
    }
   ],
   "source": [
    "for x in range(3,5):\n",
    "    print(x)"
   ]
  },
  {
   "cell_type": "code",
   "execution_count": null,
   "metadata": {},
   "outputs": [],
   "source": []
  }
 ],
 "metadata": {
  "kernelspec": {
   "display_name": "Python 3",
   "language": "python",
   "name": "python3"
  },
  "language_info": {
   "codemirror_mode": {
    "name": "ipython",
    "version": 3
   },
   "file_extension": ".py",
   "mimetype": "text/x-python",
   "name": "python",
   "nbconvert_exporter": "python",
   "pygments_lexer": "ipython3",
   "version": "3.6.5"
  }
 },
 "nbformat": 4,
 "nbformat_minor": 2
}
