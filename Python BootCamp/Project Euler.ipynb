{
 "cells": [
  {
   "cell_type": "code",
   "execution_count": 7,
   "metadata": {},
   "outputs": [
    {
     "data": {
      "text/plain": [
       "225534"
      ]
     },
     "execution_count": 7,
     "metadata": {},
     "output_type": "execute_result"
    }
   ],
   "source": [
    "#P1 Find the sum of all the multiples of 3 and 5 below 100\n",
    "def sum_all(nums):\n",
    "    '''\n",
    "    find all the multiples of 3\n",
    "    find all the multiples of 5\n",
    "    put them into a set -->eliminate the duplicate\n",
    "    sum\n",
    "    '''\n",
    "    new_list = []\n",
    "    \n",
    "    a = (int)(nums/3)\n",
    "    b = (int)(nums/5)\n",
    "    for i in range(0,a):\n",
    "        new_list.append(i*3)\n",
    "    for i in range(0,b):\n",
    "        new_list.append(i*3)\n",
    "    #remove duplicates using set\n",
    "    set(new_list)\n",
    "    result = 0\n",
    "    for i in new_list:\n",
    "        result+=i\n",
    "    return result\n",
    "\n",
    "sum_all(1000)"
   ]
  },
  {
   "cell_type": "code",
   "execution_count": 12,
   "metadata": {},
   "outputs": [
    {
     "name": "stdout",
     "output_type": "stream",
     "text": [
      "1500520536206896083275\n"
     ]
    }
   ],
   "source": [
    "#P2 Fibonacci numbers the third term is the first plus the second\n",
    "#By considering the terms in the Fibonacci sequence whose values \n",
    "#do not exceed four million, find the sum of the even-valued terms.\n",
    "def fibonacci(a):\n",
    "    num=[]\n",
    "    num.append(1)\n",
    "    num.append(2)\n",
    "    \n",
    "    for i in range(2,a):\n",
    "        num.append(num[i-1]+num[i-2])\n",
    "    \n",
    "\n",
    "fibonacci(100)"
   ]
  },
  {
   "cell_type": "code",
   "execution_count": null,
   "metadata": {},
   "outputs": [],
   "source": []
  }
 ],
 "metadata": {
  "kernelspec": {
   "display_name": "Python 3",
   "language": "python",
   "name": "python3"
  },
  "language_info": {
   "codemirror_mode": {
    "name": "ipython",
    "version": 3
   },
   "file_extension": ".py",
   "mimetype": "text/x-python",
   "name": "python",
   "nbconvert_exporter": "python",
   "pygments_lexer": "ipython3",
   "version": "3.6.5"
  }
 },
 "nbformat": 4,
 "nbformat_minor": 2
}
