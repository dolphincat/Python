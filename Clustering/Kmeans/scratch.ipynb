{
 "cells": [
  {
   "cell_type": "code",
   "execution_count": 13,
   "id": "ec9100f7-df7c-43b0-9664-b999b0a8ac8c",
   "metadata": {},
   "outputs": [],
   "source": [
    "import pandas as pd\n",
    "import numpy as np\n",
    "import matplotlib.pyplot as plt\n",
    "\n",
    "df=pd.DataFrame({\n",
    " 'x':[12,20,28,18,30,34,56,78,13,34,54,90,8,1,4,7],\n",
    " 'y':[49,20,34,5,2,6,7,10,35,12,45,79,97,47,8,76]\n",
    "})"
   ]
  },
  {
   "cell_type": "code",
   "execution_count": 14,
   "id": "790a6c5c-19c1-4188-a425-4354fa54e9cd",
   "metadata": {},
   "outputs": [
    {
     "data": {
      "image/png": "[encoded data removed]",
      "text/plain": [
       "<Figure size 360x360 with 1 Axes>"
      ]
     },
     "metadata": {
      "needs_background": "light"
     },
     "output_type": "display_data"
    }
   ],
   "source": [
    "np.random.seed(20)\n",
    "k =3\n",
    "# pick random 3 points each time\n",
    "centroids = {\n",
    "    i+1: [np.random.randint(0,80), np.random.randint(0,80)] for i in range(k)\n",
    "}\n",
    "\n",
    "fig = plt.figure(figsize=(5,5))\n",
    "plt.scatter(df['x'], df['y'], color='k')\n",
    "colmap = {1:'r', 2:'g', 3:'b'}\n",
    "for i in centroids.keys():\n",
    "    plt.scatter(*centroids[i], color=colmap[i])\n",
    "plt.xlim(0, 80)\n",
    "plt.ylim(0, 80)\n",
    "plt.show()"
   ]
  },
  {
   "cell_type": "code",
   "execution_count": 15,
   "id": "40f6e927-0fb6-4730-86ed-3002508cf5d0",
   "metadata": {},
   "outputs": [],
   "source": [
    "# Assignment stage\n",
    "\n",
    "def assignment(df, centroids):\n",
    "    for i in centroids.keys():\n",
    "        df['distance_from_{}'.format(i)] = (\n",
    "            np.sqrt(\n",
    "                (df['x'] - centroids[i][0])**2\n",
    "                +(df['y'] - centroids[i][1])**2\n",
    "            )\n",
    "        )\n",
    "    centroid_distance_cols = ['distance_from_{}'.format(i) for i in centroids.keys()]\n",
    "    # what does this mean?\n",
    "    df['closest'] = df.loc[:, centroid_distance_cols].idxmin(axis=1)\n",
    "    #\n",
    "    df['closest'] = df['closest'].map(lambda x: int(x.lstrip('distance_from_')))\n",
    "    #\n",
    "    df['color'] = df['closest'].map(lambda x: colmap[x])\n",
    "    return df\n",
    "    \n"
   ]
  },
  {
   "cell_type": "code",
   "execution_count": 16,
   "id": "c931976a-30d6-4288-a698-8c492c92fadd",
   "metadata": {},
   "outputs": [],
   "source": [
    "df = assignment(df, centroids)"
   ]
  },
  {
   "cell_type": "code",
   "execution_count": 17,
   "id": "0776279c-62bb-48d7-92e4-f4c65ea5d984",
   "metadata": {},
   "outputs": [
    {
     "data": {
      "text/html": [
       "<div>\n",
       "<style scoped>\n",
       "    .dataframe tbody tr th:only-of-type {\n",
       "        vertical-align: middle;\n",
       "    }\n",
       "\n",
       "    .dataframe tbody tr th {\n",
       "        vertical-align: top;\n",
       "    }\n",
       "\n",
       "    .dataframe thead th {\n",
       "        text-align: right;\n",
       "    }\n",
       "</style>\n",
       "<table border=\"1\" class=\"dataframe\">\n",
       "  <thead>\n",
       "    <tr style=\"text-align: right;\">\n",
       "      <th></th>\n",
       "      <th>x</th>\n",
       "      <th>y</th>\n",
       "      <th>distance_from_1</th>\n",
       "      <th>distance_from_2</th>\n",
       "      <th>distance_from_3</th>\n",
       "      <th>closest</th>\n",
       "      <th>color</th>\n",
       "    </tr>\n",
       "  </thead>\n",
       "  <tbody>\n",
       "    <tr>\n",
       "      <th>0</th>\n",
       "      <td>12</td>\n",
       "      <td>49</td>\n",
       "      <td>21.213203</td>\n",
       "      <td>29.154759</td>\n",
       "      <td>68.541958</td>\n",
       "      <td>1</td>\n",
       "      <td>r</td>\n",
       "    </tr>\n",
       "    <tr>\n",
       "      <th>1</th>\n",
       "      <td>20</td>\n",
       "      <td>20</td>\n",
       "      <td>9.433981</td>\n",
       "      <td>11.000000</td>\n",
       "      <td>55.036352</td>\n",
       "      <td>1</td>\n",
       "      <td>r</td>\n",
       "    </tr>\n",
       "    <tr>\n",
       "      <th>2</th>\n",
       "      <td>28</td>\n",
       "      <td>34</td>\n",
       "      <td>14.317821</td>\n",
       "      <td>23.600847</td>\n",
       "      <td>48.507731</td>\n",
       "      <td>1</td>\n",
       "      <td>r</td>\n",
       "    </tr>\n",
       "    <tr>\n",
       "      <th>3</th>\n",
       "      <td>18</td>\n",
       "      <td>5</td>\n",
       "      <td>23.194827</td>\n",
       "      <td>17.492856</td>\n",
       "      <td>59.481089</td>\n",
       "      <td>2</td>\n",
       "      <td>g</td>\n",
       "    </tr>\n",
       "    <tr>\n",
       "      <th>4</th>\n",
       "      <td>30</td>\n",
       "      <td>2</td>\n",
       "      <td>30.016662</td>\n",
       "      <td>27.658633</td>\n",
       "      <td>49.244289</td>\n",
       "      <td>2</td>\n",
       "      <td>g</td>\n",
       "    </tr>\n",
       "  </tbody>\n",
       "</table>\n",
       "</div>"
      ],
      "text/plain": [
       "    x   y  distance_from_1  distance_from_2  distance_from_3  closest color\n",
       "0  12  49        21.213203        29.154759        68.541958        1     r\n",
       "1  20  20         9.433981        11.000000        55.036352        1     r\n",
       "2  28  34        14.317821        23.600847        48.507731        1     r\n",
       "3  18   5        23.194827        17.492856        59.481089        2     g\n",
       "4  30   2        30.016662        27.658633        49.244289        2     g"
      ]
     },
     "execution_count": 17,
     "metadata": {},
     "output_type": "execute_result"
    }
   ],
   "source": [
    "df.head()"
   ]
  },
  {
   "cell_type": "code",
   "execution_count": 18,
   "id": "7b846e25-52de-44f7-9197-1f812007e301",
   "metadata": {},
   "outputs": [
    {
     "data": {
      "image/png": "[encoded data removed]",
      "text/plain": [
       "<Figure size 360x360 with 1 Axes>"
      ]
     },
     "metadata": {
      "needs_background": "light"
     },
     "output_type": "display_data"
    }
   ],
   "source": [
    "fig = plt.figure(figsize=(5,5))\n",
    "# what is alpha and edgecolor?\n",
    "plt.scatter(df['x'], df['y'], color=df['color'], alpha=0.5, edgecolor='k')\n",
    "for i in centroids.keys():\n",
    "    # what is * mean here?\n",
    "    plt.scatter(*centroids[i], color=colmap[i])\n",
    "plt.xlim(0,80)\n",
    "plt.ylim(0,80)\n",
    "plt.show()"
   ]
  },
  {
   "cell_type": "code",
   "execution_count": 19,
   "id": "c45ca261-cf55-4e58-ad23-9261cfefee2a",
   "metadata": {},
   "outputs": [],
   "source": [
    "# Update Stage\n",
    "import copy\n",
    "# what is deepcopy?\n",
    "old_centroids = copy.deepcopy(centroids)\n",
    "\n",
    "def update(k):\n",
    "    for i in centroids.keys():\n",
    "        centroids[i][0] = np.mean(df[df['closest']==i]['x'])\n",
    "        centroids[i][1] = np.mean(df[df['closest']==i]['y'])\n",
    "    return k\n",
    "\n"
   ]
  },
  {
   "cell_type": "code",
   "execution_count": 23,
   "id": "e961d97d-8d53-4357-b26f-210177747d58",
   "metadata": {},
   "outputs": [
    {
     "data": {
      "text/plain": [
       "{1: [15.375, 46.25], 2: [21.5, 5.25], 3: [69.5, 35.25]}"
      ]
     },
     "execution_count": 23,
     "metadata": {},
     "output_type": "execute_result"
    }
   ],
   "source": [
    "centroids = update(centroids)\n",
    "centroids"
   ]
  },
  {
   "cell_type": "code",
   "execution_count": 24,
   "id": "9e530995-d9db-4227-bc6f-b13eae955388",
   "metadata": {},
   "outputs": [
    {
     "data": {
      "text/plain": [
       "{1: [15.375, 46.25], 2: [21.5, 5.25], 3: [69.5, 35.25]}"
      ]
     },
     "execution_count": 24,
     "metadata": {},
     "output_type": "execute_result"
    }
   ],
   "source": [
    "centroids = update(centroids)\n",
    "centroids"
   ]
  },
  {
   "cell_type": "code",
   "execution_count": 26,
   "id": "c04927d8-3e24-423f-b45e-95463b2e3d1e",
   "metadata": {},
   "outputs": [
    {
     "data": {
      "image/png": "[encoded data removed]",
      "text/plain": [
       "<Figure size 360x360 with 1 Axes>"
      ]
     },
     "metadata": {
      "needs_background": "light"
     },
     "output_type": "display_data"
    }
   ],
   "source": [
    "fig = plt.figure(figsize=(5,5))\n",
    "ax = plt.axes()\n",
    "plt.scatter(df['x'], df['y'], color=df['color'], alpha=0.5, edgecolor='k')\n",
    "for i in centroids.keys():\n",
    "    plt.scatter(*centroids[i], color=colmap[i])\n",
    "plt.xlim(0,80)\n",
    "plt.ylim(0,80)\n",
    "for i in old_centroids.keys():\n",
    "    old_x = old_centroids[i][0]\n",
    "    old_y = old_centroids[i][1]\n",
    "    dx = (centroids[i][0]-old_centroids[i][0])*0.75\n",
    "    dy = (centroids[i][1]-old_centroids[i][1])*0.75\n",
    "    # what is head_width, head_length, fc, ec?\n",
    "    ax.arrow(old_x, old_y, dx, dy, head_width=2, head_length=3, fc=colmap[i], ec=colmap[i])\n",
    "plt.show()"
   ]
  },
  {
   "cell_type": "code",
   "execution_count": 27,
   "id": "9a192c5c-ff8a-4868-83ad-4ec2da3463d1",
   "metadata": {},
   "outputs": [
    {
     "data": {
      "image/png": "[encoded data removed]",
      "text/plain": [
       "<Figure size 360x360 with 1 Axes>"
      ]
     },
     "metadata": {
      "needs_background": "light"
     },
     "output_type": "display_data"
    }
   ],
   "source": [
    "# Repeat Assignement Stage\n",
    "\n",
    "df = assignment(df, centroids)\n",
    "fig = plt.figure(figsize=(5,5))\n",
    "plt.scatter(df['x'], df['y'], color=df['color'], alpha=0.5, edgecolor='k')\n",
    "for i in centroids.keys():\n",
    "    plt.scatter(*centroids[i], color=colmap[i])\n",
    "plt.xlim(0,80)\n",
    "plt.ylim(0,80)\n",
    "plt.show()"
   ]
  },
  {
   "cell_type": "code",
   "execution_count": 28,
   "id": "96f8abb0-496a-4c35-a3cf-259199705505",
   "metadata": {},
   "outputs": [
    {
     "data": {
      "image/png": "[encoded data removed]",
      "text/plain": [
       "<Figure size 360x360 with 1 Axes>"
      ]
     },
     "metadata": {
      "needs_background": "light"
     },
     "output_type": "display_data"
    }
   ],
   "source": [
    "# Continue until all assigned categories don't change anymore\n",
    "while True:\n",
    "    closest_centroids = df['closest'].copy(deep=True)\n",
    "    centroids = update(centroids)\n",
    "    df = assignment(df, centroids)\n",
    "    if closest_centroids.equals(df['closest']):\n",
    "        break\n",
    "        \n",
    "fig = plt.figure(figsize=(5,5))\n",
    "plt.scatter(df['x'], df['y'], color=df['color'], alpha=0.5, edgecolor='k')\n",
    "for i in centroids.keys():\n",
    "    plt.scatter(*centroids[i], color=colmap[i])\n",
    "    \n",
    "plt.xlim(0,80)\n",
    "plt.ylim(0,80)\n",
    "plt.show()\n",
    "    \n",
    "    "
   ]
  },
  {
   "cell_type": "code",
   "execution_count": 31,
   "id": "853b714c-240b-463d-adfc-b5523724922e",
   "metadata": {},
   "outputs": [
    {
     "data": {
      "text/plain": [
       "KMeans(n_clusters=3)"
      ]
     },
     "execution_count": 31,
     "metadata": {},
     "output_type": "execute_result"
    }
   ],
   "source": [
    "# Use existing algorithm\n",
    "from sklearn.cluster import KMeans\n",
    "df=pd.DataFrame({\n",
    " 'x':[12,20,28,18,30,34,56,78,13,34,54,90,8,1,4,7],\n",
    " 'y':[49,20,34,5,2,6,7,10,35,12,45,79,97,47,8,76]\n",
    "})\n",
    "kmeans = KMeans(n_clusters=3)\n",
    "kmeans.fit(df)"
   ]
  },
  {
   "cell_type": "code",
   "execution_count": 34,
   "id": "341022e7-f27f-4303-8f00-be24f3335c13",
   "metadata": {},
   "outputs": [],
   "source": [
    "labels=kmeans.predict(df)\n",
    "centroids=kmeans.cluster_centers_"
   ]
  },
  {
   "cell_type": "code",
   "execution_count": 33,
   "id": "eaf89f84-852c-4e7b-9252-8b194b58d664",
   "metadata": {},
   "outputs": [
    {
     "data": {
      "text/plain": [
       "array([1, 0, 0, 0, 0, 0, 0, 2, 0, 0, 2, 2, 1, 1, 0, 1], dtype=int32)"
      ]
     },
     "execution_count": 33,
     "metadata": {},
     "output_type": "execute_result"
    }
   ],
   "source": [
    "labels"
   ]
  },
  {
   "cell_type": "code",
   "execution_count": 35,
   "id": "c6fd5bcc-c9e9-445b-b88b-122fb33db574",
   "metadata": {},
   "outputs": [
    {
     "data": {
      "text/plain": [
       "array([[26.33333333, 14.33333333],\n",
       "       [ 7.        , 67.25      ],\n",
       "       [74.        , 44.66666667]])"
      ]
     },
     "execution_count": 35,
     "metadata": {},
     "output_type": "execute_result"
    }
   ],
   "source": [
    "centroids"
   ]
  },
  {
   "cell_type": "code",
   "execution_count": 37,
   "id": "d8c8ce30-d5a4-4213-aaf7-b3df2e3f2220",
   "metadata": {},
   "outputs": [
    {
     "data": {
      "image/png": "[encoded data removed]",
      "text/plain": [
       "<Figure size 432x288 with 1 Axes>"
      ]
     },
     "metadata": {
      "needs_background": "light"
     },
     "output_type": "display_data"
    }
   ],
   "source": [
    "plt.scatter(df['x'], df['y'])\n",
    "plt.scatter(kmeans.cluster_centers_[:,0], kmeans.cluster_centers_[:,1], s=300, c='red')\n",
    "plt.show()"
   ]
  }
 ],
 "metadata": {
  "kernelspec": {
   "display_name": "Python 3 (ipykernel)",
   "language": "python",
   "name": "python3"
  },
  "language_info": {
   "codemirror_mode": {
    "name": "ipython",
    "version": 3
   },
   "file_extension": ".py",
   "mimetype": "text/x-python",
   "name": "python",
   "nbconvert_exporter": "python",
   "pygments_lexer": "ipython3",
   "version": "3.8.5"
  }
 },
 "nbformat": 4,
 "nbformat_minor": 5
}
